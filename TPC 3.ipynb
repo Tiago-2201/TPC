{
 "cells": [
  {
   "cell_type": "code",
   "execution_count": 39,
   "metadata": {},
   "outputs": [
    {
     "name": "stdout",
     "output_type": "stream",
     "text": [
      "Aguarde enquanto o computador tenta adivinhar...\n",
      "O computador tentou: 97\n",
      "O computador tentou: 57\n",
      "O computador tentou: 81\n",
      "O computador tentou: 77\n",
      "O computador tentou: 65\n",
      "O computador tentou: 69\n",
      "O computador tentou: 66\n",
      "O computador tentou: 68\n",
      "O computador tentou: 67\n",
      "O computador acertou em {tentativas} tentativas!\n"
     ]
    }
   ],
   "source": [
    "#TPC3\n",
    "#Utilizador adivinha\n",
    "import random\n",
    "\n",
    "def jogador_adivinha():\n",
    "    numero_secreto = random.randint(0, 100)\n",
    "    tentativas = 0\n",
    "\n",
    "    print(\"Bem-vindo ao jogo adivinha o numero!\")\n",
    "    print(\"Tente adivinhar o numero entre 0 e 100.\")\n",
    "\n",
    "    while True:\n",
    "        tentativa = int(input(\"Sua tentativa: \"))\n",
    "        tentativas += 1\n",
    "\n",
    "        if tentativa < numero_secreto:\n",
    "            print(\"Numero baixo. Digite um numero mais alto!\")\n",
    "        elif tentativa > numero_secreto:\n",
    "            print(\"Numero alto. Digite um numero mais baixo!\")\n",
    "        else:\n",
    "            print(f\"Parabens! Acertou em {tentativas} tentativas.\")\n",
    "            break\n",
    "\n",
    "jogador_adivinha()\n",
    "\n",
    "#computador adivinha\n",
    "import random\n",
    "\n",
    "def computador_adivinha():\n",
    "    numero_pensado = int(input(\"Pense num numero entre 0 e 100 para o computador adivinhar: \"))\n",
    "    tentativas = 0\n",
    "    limite_inferior = 0\n",
    "    limite_superior = 100\n",
    "\n",
    "    print(\"Aguarde enquanto o computador tenta adivinhar...\")\n",
    "\n",
    "    while True:\n",
    "        tentativa = random.randint(limite_inferior, limite_superior)\n",
    "        tentativas += 1\n",
    "\n",
    "        print(f\"O computador tentou: {tentativa}\")\n",
    "\n",
    "        if tentativa < numero_pensado:\n",
    "            limite_inferior = tentativa + 1\n",
    "        elif tentativa > numero_pensado:\n",
    "            limite_superior = tentativa - 1\n",
    "        else:\n",
    "            print(f\"O computador acertou em {tentativas} tentativas!\")\n",
    "            break\n",
    "\n",
    "computador_adivinha()\n",
    "\n",
    "\n",
    "\n",
    "\n",
    "    "
   ]
  }
 ],
 "metadata": {
  "kernelspec": {
   "display_name": "Python 3",
   "language": "python",
   "name": "python3"
  },
  "language_info": {
   "codemirror_mode": {
    "name": "ipython",
    "version": 3
   },
   "file_extension": ".py",
   "mimetype": "text/x-python",
   "name": "python",
   "nbconvert_exporter": "python",
   "pygments_lexer": "ipython3",
   "version": "3.11.5"
  },
  "orig_nbformat": 4
 },
 "nbformat": 4,
 "nbformat_minor": 2
}
